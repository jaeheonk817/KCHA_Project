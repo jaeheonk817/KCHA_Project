{
  "nbformat": 4,
  "nbformat_minor": 0,
  "metadata": {
    "colab": {
      "provenance": [],
      "authorship_tag": "ABX9TyMpZiL5n2ci2sQl+t/yN8B1",
      "include_colab_link": true
    },
    "kernelspec": {
      "name": "python3",
      "display_name": "Python 3"
    },
    "language_info": {
      "name": "python"
    }
  },
  "cells": [
    {
      "cell_type": "markdown",
      "metadata": {
        "id": "view-in-github",
        "colab_type": "text"
      },
      "source": [
        "<a href=\"https://colab.research.google.com/github/jaeheonk817/KCHA_Project/blob/main/Untitled0.ipynb\" target=\"_parent\"><img src=\"https://colab.research.google.com/assets/colab-badge.svg\" alt=\"Open In Colab\"/></a>"
      ]
    },
    {
      "cell_type": "code",
      "execution_count": null,
      "metadata": {
        "id": "XxFK7zXc5py7"
      },
      "outputs": [],
      "source": []
    },
    {
      "cell_type": "markdown",
      "source": [
        "# Surface Crack Detection using Neural Networks for NYC Department of Buildings\n",
        "authored by Jae Heon Kim"
      ],
      "metadata": {
        "id": "XtN1hP-a5twp"
      }
    },
    {
      "cell_type": "code",
      "source": [],
      "metadata": {
        "id": "Uade-KxP5zbB"
      },
      "execution_count": null,
      "outputs": []
    }
  ]
}